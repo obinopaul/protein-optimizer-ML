{
 "cells": [
  {
   "attachments": {},
   "cell_type": "markdown",
   "metadata": {},
   "source": [
    "<a id=\"1\"></a> <br>\n",
    "## Cytovance-Optim  v1.0 - Proof of Concept<br><br>"
   ]
  },
  {
   "cell_type": "code",
   "execution_count": 1,
   "metadata": {},
   "outputs": [],
   "source": [
    "# Data Analysis      \n",
    "import pandas as pd          # data analysis library for handling structured data             \n",
    "import numpy as np           # mathematical library for working with numerical data\n",
    "import os \n",
    "import joblib               # library for saving and loading models in a file\n",
    "import gradio as gr          # library for creating UI for your ML model \n",
    "# Visualization\n",
    "import matplotlib.pyplot as plt     # data visualization library for creating graphs and charts\n",
    "%matplotlib inline\n"
   ]
  },
  {
   "cell_type": "markdown",
   "metadata": {},
   "source": [
    "<a id=\"2\"></a> <br>\n",
    "## Gradio App"
   ]
  },
  {
   "cell_type": "code",
   "execution_count": 2,
   "metadata": {},
   "outputs": [],
   "source": [
    "os.chdir(r\"C:\\Users\\pault\\OneDrive - University of Oklahoma\\GRA - Bio-Manufacturing\\1. ML-Cytovance-OU-Research\")"
   ]
  },
  {
   "cell_type": "code",
   "execution_count": 3,
   "metadata": {},
   "outputs": [],
   "source": [
    "def predict(time_point, output_WCW_gl, output_agitation, output_air_percent, output_D0_percent, output_gasflow, output_O2, output_Ph, output_feed_percent, output_feed, output_Temp, output_glycerol_gl, output_glucose_gl, output_acetate_mmol_l, output_phosphate_mmol_l):\n",
    "    # Convert the time_point to a datetime index (adjust format as necessary)\n",
    "    \n",
    "    \n",
    "    # Create a DataFrame from the inputs, with time_point as the index\n",
    "    df = pd.DataFrame({\n",
    "        'output_WCW_gl': [output_WCW_gl],\n",
    "        'output_agitation': [output_agitation],\n",
    "        'output_air_%': [output_air_percent],\n",
    "        'output_D0_%': [output_D0_percent],\n",
    "        'output_gasflow': [output_gasflow],\n",
    "        'output_O2': [output_O2],\n",
    "        'output_Ph': [output_Ph],\n",
    "        'output_feed_%': [output_feed_percent],\n",
    "        'output_feed': [output_feed],\n",
    "        'output_Temp': [output_Temp],\n",
    "        'output_glycerol_gl': [output_glycerol_gl],\n",
    "        'output_glucose_gl': [output_glucose_gl],\n",
    "        'output_acetate_mmol_l': [output_acetate_mmol_l],\n",
    "        'output_phosphate_mmol_l': [output_phosphate_mmol_l]\n",
    "    }, index=[time_point])\n",
    "    \n",
    "    scaler = joblib.load(r\"models/scaler.joblib\")  # Function to load your saved model from a file\n",
    "    df = scaler.transform(df)  # Apply the loaded model to new data.\n",
    "    \n",
    "    # Load your model and make predictions on the DataFrame\n",
    "    model = joblib.load(r\"models/sarimax_model.joblib\")  # Function to load your saved model from a file\n",
    "    predictions = model.get_forecast(steps=len(df), exog=df)\n",
    "    predictions = predictions.predicted_mean\n",
    "    \n",
    "    # For demonstration, let's just return the DataFrame as a string\n",
    "    return predictions.values"
   ]
  },
  {
   "cell_type": "code",
   "execution_count": 4,
   "metadata": {},
   "outputs": [],
   "source": [
    "# Define the Gradio input components for each column\n",
    "inputs = [\n",
    "    # gr.Textbox(label=\"Time Point\", placeholder=\"Enter time point in hrs (e.g., 2)\"),\n",
    "    gr.Slider(minimum=1, maximum=100, label = 'Time Point (hrs)'),\n",
    "    gr.Number(label=\"WCW (g/L)\"),\n",
    "    gr.Number(label=\"Agitation\"),\n",
    "    gr.Number(label=\"Air %\"),\n",
    "    gr.Number(label=\"Disolved Oxygen Percentage (DO)\"),\n",
    "    gr.Number(label=\"Gas Flow\"),\n",
    "    gr.Number(label=\"Oxygen Percentage (O2)\"),\n",
    "    gr.Number(label=\"Ph\"),\n",
    "    gr.Number(label=\"Feed Percentage\"),\n",
    "    gr.Number(label=\"Feed\"),\n",
    "    # gr.Number(label=\"Temp\"), \n",
    "    gr.Slider(minimum=0, maximum=100, label = 'Temperature (Celsius)'), \n",
    "    gr.Number(label=\"Glycerol (g/L)\"),\n",
    "    gr.Number(label=\"Glucose (g/L)\"),\n",
    "    gr.Number(label=\"Acetate (mmol/L)\"),\n",
    "    gr.Number(label=\"Phosphate (mmol/L)\")\n",
    "]\n",
    "\n",
    "examples = [\n",
    "    [14, 125, 1184.56,\t94.78,\t39.11,\t4.92,\t5.22,\t6.74,\t20.15,\t0.6851,\t29.95,\t0.01,\t1.01008,\t1.33,\t7.78],\n",
    "    [28, 213.5,\t1185.07, 89.96,\t40.31,\t5,\t    10.04,\t6.7,\t17.9,\t0.6086,\t29.98,\t0.01,\t1.16514,\t3.22,\t0]\n",
    "]\n",
    "     \n",
    "     \n",
    "     \n",
    "# Define the Gradio output component\n",
    "output = gr.Textbox(label=\"OD600nm Prediction\")\n",
    "style = {'description': 'width: 50%'}"
   ]
  },
  {
   "cell_type": "code",
   "execution_count": 5,
   "metadata": {},
   "outputs": [
    {
     "name": "stdout",
     "output_type": "stream",
     "text": [
      "Running on local URL:  http://127.0.0.1:7860\n",
      "\n",
      "To create a public link, set `share=True` in `launch()`.\n"
     ]
    },
    {
     "data": {
      "text/html": [
       "<div><iframe src=\"http://127.0.0.1:7860/\" width=\"100%\" height=\"500\" allow=\"autoplay; camera; microphone; clipboard-read; clipboard-write;\" frameborder=\"0\" allowfullscreen></iframe></div>"
      ],
      "text/plain": [
       "<IPython.core.display.HTML object>"
      ]
     },
     "metadata": {},
     "output_type": "display_data"
    },
    {
     "data": {
      "text/plain": []
     },
     "execution_count": 5,
     "metadata": {},
     "output_type": "execute_result"
    }
   ],
   "source": [
    "# Create the Gradio interface\n",
    "iface = gr.Interface(fn=predict, inputs=inputs, outputs=output, examples = examples, \n",
    "                     title=\"Protein Titer OD600nm Prediction - Proof of Concept App\", \n",
    "                     description=\"Enter the values for the specified Parameters along with the time point.\",\n",
    "                     theme=\"freddyaboulton/dracula_revamped\")\n",
    "\n",
    "# Launch the Gradio app\n",
    "iface.launch()"
   ]
  },
  {
   "cell_type": "code",
   "execution_count": null,
   "metadata": {},
   "outputs": [],
   "source": [
    "model = load('models/sarimax_model.joblib')\n",
    "\n",
    "var1 = gr.Number(label=\"WCW (g/L)\")\n",
    "var2 = gr.Number(label=\"Agitation\")\n",
    "var3 = gr.Number(label=\"Air %\")\n",
    "\n",
    "def predict(var1, var2, var3):\n",
    "    y_pred = model.predict([[var1, var2, var3]])\n",
    "    return float(y_pred)\n",
    "\n",
    "gr.interface"
   ]
  },
  {
   "cell_type": "code",
   "execution_count": null,
   "metadata": {},
   "outputs": [],
   "source": [
    "# model = gr.Dropdown(list(compare_model_results['Model']),label=\"Model\")\n",
    "# gender = gr.Dropdown(choices=[\"Male\", \"Female\"],label = 'gender')\n",
    "# age = gr.Slider(minimum=1, maximum=100, default=data['age'].mean(), label = 'age')\n",
    "# hypertension = gr.Dropdown(choices=[\"1\", \"0\"],label = 'hypertension')\n",
    "# heart_disease = gr.Dropdown(choices=[\"1\", \"0\"],label ='heart_disease')\n",
    "# ever_married = gr.Dropdown(choices=[\"Yes\", \"No\"], label ='ever_married')\n",
    "# work_type = gr.Dropdown(choices=[\"children\", \"Govt_job\",\"Never_worked\",\"Private\",\"Self-employed\"],label = 'work_type')\n",
    "# Residence_type = gr.Dropdown(choices=[\"Urban\", \"Rural\"],label = 'Residence_type')\n",
    "# avg_glucose_level =\tgr.iSlider(minimum=-55, maximum=300, default=data['avg_glucose_level'].mean(), label = 'avg_glucose_level')\n",
    "# bmi = gr.Slider(minimum=-10, maximum=100, default=data['bmi'].mean(), label = 'bmi')\n",
    "# smoking_status = gr.Dropdown(choices=[\"Unknown\", \"smokes\",\"never_smoked\", \"formerly_smoked\"], label ='smoking_status')\n",
    "\n",
    "# style = {'description': 'width: 50%'}\n",
    "# gr.Interface(predict,[model, gender, age, hypertension, heart_disease, ever_married, work_type, Residence_type, avg_glucose_level, bmi, smoking_status], \"label\",live=True).launch()\n"
   ]
  },
  {
   "cell_type": "code",
   "execution_count": 40,
   "metadata": {},
   "outputs": [
    {
     "name": "stdout",
     "output_type": "stream",
     "text": [
      "Running on local URL:  http://127.0.0.1:7868\n",
      "\n",
      "To create a public link, set `share=True` in `launch()`.\n"
     ]
    },
    {
     "data": {
      "text/html": [
       "<div><iframe src=\"http://127.0.0.1:7868/\" width=\"100%\" height=\"500\" allow=\"autoplay; camera; microphone; clipboard-read; clipboard-write;\" frameborder=\"0\" allowfullscreen></iframe></div>"
      ],
      "text/plain": [
       "<IPython.core.display.HTML object>"
      ]
     },
     "metadata": {},
     "output_type": "display_data"
    },
    {
     "data": {
      "text/plain": []
     },
     "execution_count": 40,
     "metadata": {},
     "output_type": "execute_result"
    }
   ],
   "source": [
    "import gradio as gr\n",
    "from joblib import load\n",
    "\n",
    "# Load your model (adjust this part according to how your model is saved and loaded)\n",
    "model = load('models\\model_ExtraTreesRegressor_r2_97_4.joblib')\n",
    "\n",
    "# Define the prediction function that takes 8 inputs\n",
    "def predict(var1, var2, var3, var4, var5, var6, var7, var8):\n",
    "    # Format the inputs as required by your model, e.g., as a list, array, or dataframe\n",
    "    inputs = [var1, var2, var3, var4, var5, var6, var7, var8]\n",
    "    \n",
    "    # Make prediction (adjust according to your model's prediction method)\n",
    "    prediction = model.predict([inputs])\n",
    "    \n",
    "    # Return the prediction (you might want to format or round the prediction)\n",
    "    return prediction  # Adjust this if necessary\n",
    "\n",
    "\n",
    "gender = gr.Dropdown(choices=[\"Male\", \"Female\"], label='Gender')\n",
    "age = gr.Slider(minimum=1, maximum=100, label='Age')\n",
    "\n",
    "# Define output component\n",
    "output = gr.Number(label=\"Prediction\")\n",
    "\n",
    "# Define the Gradio app layout and theme\n",
    "style = {'description': 'width: 50%'}\n",
    "iface = gr.Interface(\n",
    "    fn=predict,\n",
    "    # inputs=[model, gender, age, hypertension, heart_disease, ever_married, work_type, Residence_type, avg_glucose_level, bmi, smoking_status],\n",
    "    inputs = [gender, age],\n",
    "    outputs=output,\n",
    "    title=\"Model Prediction App\",\n",
    "    description=\"Enter the values for the 8 variables to get the numeric prediction from the model.\",\n",
    "    theme=\"default\",  # You can choose from various themes like 'default', 'huggingface', 'dark', 'grass', 'peach', etc.\n",
    "    # layout=\"unaligned\",\n",
    "    css=\"\"\"\n",
    "        body { font-family: Arial, sans-serif; }\n",
    "        .gr-interface { max-width: 800px; margin: auto; }\n",
    "        .gr-title, .gr-description { text-align: center; }\n",
    "        .gr-inputs, .gr-output { border-radius: 10px; }\n",
    "        .gr-group { margin-bottom: 20px; }\n",
    "        .gr-output-label { margin-top: 20px; }\n",
    "    \"\"\",\n",
    "    live=False,\n",
    "    allow_flagging=True,\n",
    "    # allow_clear = True\n",
    "        )\n",
    "\n",
    "# Launch the Gradio app\n",
    "iface.launch()\n"
   ]
  },
  {
   "cell_type": "code",
   "execution_count": 32,
   "metadata": {},
   "outputs": [
    {
     "data": {
      "text/plain": [
       "['ChatInterface',\n",
       " 'Interface',\n",
       " 'TabbedInterface',\n",
       " 'chat_interface',\n",
       " 'interface']"
      ]
     },
     "execution_count": 32,
     "metadata": {},
     "output_type": "execute_result"
    }
   ],
   "source": [
    "[i for i in dir(gr) if 'interface' in i.lower()]"
   ]
  },
  {
   "cell_type": "code",
   "execution_count": null,
   "metadata": {},
   "outputs": [],
   "source": []
  }
 ],
 "metadata": {
  "kernelspec": {
   "display_name": "base",
   "language": "python",
   "name": "python3"
  },
  "language_info": {
   "codemirror_mode": {
    "name": "ipython",
    "version": 3
   },
   "file_extension": ".py",
   "mimetype": "text/x-python",
   "name": "python",
   "nbconvert_exporter": "python",
   "pygments_lexer": "ipython3",
   "version": "3.11.5"
  },
  "orig_nbformat": 4,
  "vscode": {
   "interpreter": {
    "hash": "c1065e887cc437d9280cab66f73a21fdac543e65443791bfb846601e6c934655"
   }
  }
 },
 "nbformat": 4,
 "nbformat_minor": 2
}
